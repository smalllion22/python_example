{
 "cells": [
  {
   "cell_type": "markdown",
   "metadata": {},
   "source": [
    "| 用法 | 說明 |\n",
    "|:---:|:---:|\n",
    "| `range(m)` | 走訪 0 到 m-1 的數字 |\n",
    "| `range(n, m)` | 走訪 n 到 m-1 的數字  |\n",
    "| `range(n, m, step)` | 以step為間距，走訪 n 到 m-1 的數字 |"
   ]
  },
  {
   "cell_type": "markdown",
   "metadata": {},
   "source": [
    "##### for"
   ]
  },
  {
   "cell_type": "code",
   "execution_count": 5,
   "metadata": {},
   "outputs": [
    {
     "name": "stdout",
     "output_type": "stream",
     "text": [
      "0,1,2,3,4,"
     ]
    }
   ],
   "source": [
    "# range(m-1)\n",
    "for i in range(5):\n",
    "    print (i, end=\",\")\n"
   ]
  },
  {
   "cell_type": "code",
   "execution_count": 6,
   "metadata": {},
   "outputs": [
    {
     "name": "stdout",
     "output_type": "stream",
     "text": [
      "5,6,7,8,9,10,"
     ]
    }
   ],
   "source": [
    "# range(n, m-1)\n",
    "for i in range(5,11):\n",
    "    print (i, end=\",\")\n",
    "\n"
   ]
  },
  {
   "cell_type": "code",
   "execution_count": 8,
   "metadata": {},
   "outputs": [
    {
     "name": "stdout",
     "output_type": "stream",
     "text": [
      "1,3,5,7,9,\n",
      "1,4,7,10,"
     ]
    }
   ],
   "source": [
    "# range(n, m-1, step)\n",
    "for i in range(1,11,2):\n",
    "    print(i, end=\",\")\n",
    "\n",
    "print()\n",
    "\n",
    "for i in range(1,11,3):\n",
    "    print(i, end=\",\")\n"
   ]
  },
  {
   "cell_type": "code",
   "execution_count": 9,
   "metadata": {},
   "outputs": [
    {
     "name": "stdout",
     "output_type": "stream",
     "text": [
      "100\n"
     ]
    }
   ],
   "source": [
    "num = 10\n",
    "sum = 0\n",
    "for i in range(10):\n",
    "    sum +=num\n",
    "print (sum)"
   ]
  },
  {
   "cell_type": "markdown",
   "metadata": {},
   "source": [
    "### 小試身手 for  \n",
    "請產出 a 開頭的 n 個偶數(含 a 本身)  \n",
    "Ex:  \n",
    "a = 5, n = 3  \n",
    "Output : 6 8 10\n",
    "\n",
    "a = 4, n = 5  \n",
    "Output : 4 6 8 10 12"
   ]
  },
  {
   "cell_type": "code",
   "execution_count": 12,
   "metadata": {},
   "outputs": [
    {
     "name": "stdout",
     "output_type": "stream",
     "text": [
      "8 10 12 14 16 "
     ]
    }
   ],
   "source": [
    "a =7\n",
    "n =5\n",
    "\n",
    "if (a%2==0):\n",
    "    for i in range(n):\n",
    "       sum=a+i*2\n",
    "       print(sum, end=\" \")\n",
    "else:\n",
    "    for i in range(n):\n",
    "       sum=(a+1)+i*2\n",
    "       print(sum, end=\" \")\n",
    "       \n"
   ]
  },
  {
   "cell_type": "code",
   "execution_count": null,
   "metadata": {},
   "outputs": [
    {
     "name": "stdout",
     "output_type": "stream",
     "text": [
      "* * * * * \n",
      " * * * * \n",
      "  * * * \n",
      "   * * \n",
      "    * \n"
     ]
    }
   ],
   "source": [
    "# 嘗試產出\n",
    "# \"\"\"\n",
    "# * * * * *\n",
    "#  * * * *\n",
    "#   * * *\n",
    "#    * *\n",
    "#     *\n",
    "# \"\"\"\n",
    "star=5\n",
    "for i in range (star):\n",
    "    print(\" \"*i+ \"* \"*(star-i))\n",
    "\n",
    "# 嘗試產出\n",
    "# \"\"\"\n",
    "#     *\n",
    "#    * *\n",
    "#   * * *\n",
    "#  * * * *\n",
    "# * * * * *\n",
    "# \"\"\"\n",
    "print()"
   ]
  },
  {
   "cell_type": "markdown",
   "metadata": {},
   "source": [
    "-----\n",
    "##### while"
   ]
  },
  {
   "cell_type": "code",
   "execution_count": null,
   "metadata": {},
   "outputs": [],
   "source": [
    "\n",
    "\n"
   ]
  }
 ],
 "metadata": {
  "kernelspec": {
   "display_name": "Python 3",
   "language": "python",
   "name": "python3"
  },
  "language_info": {
   "codemirror_mode": {
    "name": "ipython",
    "version": 3
   },
   "file_extension": ".py",
   "mimetype": "text/x-python",
   "name": "python",
   "nbconvert_exporter": "python",
   "pygments_lexer": "ipython3",
   "version": "3.13.0"
  }
 },
 "nbformat": 4,
 "nbformat_minor": 2
}
