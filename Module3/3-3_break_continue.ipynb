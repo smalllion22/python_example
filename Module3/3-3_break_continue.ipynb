{
 "cells": [
  {
   "cell_type": "markdown",
   "metadata": {},
   "source": [
    "##### break"
   ]
  },
  {
   "cell_type": "code",
   "execution_count": 1,
   "metadata": {},
   "outputs": [
    {
     "name": "stdout",
     "output_type": "stream",
     "text": [
      "H\n",
      "e\n"
     ]
    }
   ],
   "source": [
    "'''\n",
    "當偵測到字母 t 時，就會強制結束迴圈\n",
    "'''\n",
    "message= \"Hello\"\n",
    "for i in message:\n",
    "    if i ==\"l\":\n",
    "        break\n",
    "    print(i)\n"
   ]
  },
  {
   "cell_type": "markdown",
   "metadata": {},
   "source": [
    "##### continue"
   ]
  },
  {
   "cell_type": "code",
   "execution_count": null,
   "metadata": {},
   "outputs": [],
   "source": [
    "'''\n",
    "當偵測到字母 t 時，\n",
    "會跳過本次迴圈剩下的程式碼 print(char)，\n",
    "但不會結束迴圈，仍然會進入下一圈繼續執行\n",
    "'''\n",
    "\n"
   ]
  },
  {
   "cell_type": "markdown",
   "metadata": {},
   "source": [
    "### 小試身手\n",
    "計算 1 到 100 之間的和，如果值超過500就停止執行"
   ]
  },
  {
   "cell_type": "code",
   "execution_count": 4,
   "metadata": {},
   "outputs": [
    {
     "name": "stdout",
     "output_type": "stream",
     "text": [
      "528\n",
      "33\n"
     ]
    }
   ],
   "source": [
    "sum=0\n",
    "for i in range(1, 101):\n",
    "  if sum>500:\n",
    "    break\n",
    "  sum+= i\n",
    "print(sum)\n",
    "print(i)"
   ]
  },
  {
   "cell_type": "markdown",
   "metadata": {},
   "source": [
    "計算 1 到 100 之間的奇數之和，但要跳過所有被 5 整除的數"
   ]
  },
  {
   "cell_type": "code",
   "execution_count": 6,
   "metadata": {},
   "outputs": [
    {
     "name": "stdout",
     "output_type": "stream",
     "text": [
      "1，1\n",
      "3，4\n",
      "5，9\n",
      "7，16\n",
      "9，25\n",
      "11，36\n",
      "13，49\n",
      "15，64\n",
      "17，81\n",
      "19，100\n",
      "21，121\n",
      "23，144\n",
      "25，169\n",
      "27，196\n",
      "29，225\n",
      "31，256\n",
      "33，289\n",
      "35，324\n",
      "37，361\n",
      "39，400\n",
      "41，441\n",
      "43，484\n",
      "45，529\n"
     ]
    }
   ],
   "source": [
    "sum=0\n",
    "for i in range(1, 101):\n",
    "  if (i%2==0):\n",
    "    continue\n",
    "  if sum>500:\n",
    "    break\n",
    "  sum+= i\n",
    "  print(str(i) + \"，\" + str(sum))\n",
    "\n"
   ]
  }
 ],
 "metadata": {
  "kernelspec": {
   "display_name": "Python 3",
   "language": "python",
   "name": "python3"
  },
  "language_info": {
   "codemirror_mode": {
    "name": "ipython",
    "version": 3
   },
   "file_extension": ".py",
   "mimetype": "text/x-python",
   "name": "python",
   "nbconvert_exporter": "python",
   "pygments_lexer": "ipython3",
   "version": "3.13.0"
  }
 },
 "nbformat": 4,
 "nbformat_minor": 2
}
