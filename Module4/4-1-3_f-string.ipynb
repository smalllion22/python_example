{
 "cells": [
  {
   "cell_type": "code",
   "execution_count": 1,
   "metadata": {},
   "outputs": [
    {
     "name": "stdout",
     "output_type": "stream",
     "text": [
      "Maru is 20 years old.\n"
     ]
    }
   ],
   "source": [
    "# f-string (又稱作 formatted string literals, version >= 3.6)\n",
    "name=\"Maru\"\n",
    "age=20\n",
    "\n",
    "print(f\"{name} is {age} years old.\")\n"
   ]
  },
  {
   "cell_type": "code",
   "execution_count": null,
   "metadata": {},
   "outputs": [],
   "source": [
    "# 靠左對齊、靠右對齊\n",
    "\n"
   ]
  },
  {
   "cell_type": "code",
   "execution_count": null,
   "metadata": {},
   "outputs": [],
   "source": [
    "# 靠左對齊、靠右對齊，字數不足，補「ㄏ」\n",
    "# (沒寫補什麼，預設空格)\n",
    "\n"
   ]
  },
  {
   "cell_type": "code",
   "execution_count": null,
   "metadata": {},
   "outputs": [],
   "source": [
    "# 置中對齊\n",
    "\n"
   ]
  },
  {
   "cell_type": "code",
   "execution_count": 2,
   "metadata": {},
   "outputs": [
    {
     "name": "stdout",
     "output_type": "stream",
     "text": [
      "    Ma     is 20 years old.\n"
     ]
    }
   ],
   "source": [
    "# 指定文字長度上限 (只有文字，才在格式化字串中加入「.」來限定字串長度)\n",
    "name=\"Maru\"\n",
    "age=20\n",
    "\n",
    "print(f\"{name:^10.2} is {age} years old.\")\n",
    "\n"
   ]
  }
 ],
 "metadata": {
  "kernelspec": {
   "display_name": "Python 3",
   "language": "python",
   "name": "python3"
  },
  "language_info": {
   "codemirror_mode": {
    "name": "ipython",
    "version": 3
   },
   "file_extension": ".py",
   "mimetype": "text/x-python",
   "name": "python",
   "nbconvert_exporter": "python",
   "pygments_lexer": "ipython3",
   "version": "3.13.0"
  }
 },
 "nbformat": 4,
 "nbformat_minor": 2
}
